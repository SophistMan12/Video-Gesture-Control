{
  "cells": [
    {
      "cell_type": "code",
      "execution_count": 1,
      "metadata": {},
      "outputs": [
        {
          "name": "stderr",
          "output_type": "stream",
          "text": [
            "<>:4: SyntaxWarning: invalid escape sequence '\\V'\n",
            "<>:4: SyntaxWarning: invalid escape sequence '\\V'\n",
            "C:\\Users\\Lenovo\\AppData\\Local\\Temp\\ipykernel_4124\\52173796.py:4: SyntaxWarning: invalid escape sequence '\\V'\n",
            "  df = pd.read_csv('D:\\VideoGestureControl\\hand_gesture_dataset.csv')\n"
          ]
        },
        {
          "name": "stdout",
          "output_type": "stream",
          "text": [
            "Tổng số mẫu: 601\n",
            "\n",
            "Số mẫu theo từng cử chỉ:\n",
            "label\n",
            "Next     201\n",
            "Pause    200\n",
            "Play     200\n",
            "Name: count, dtype: int64\n"
          ]
        }
      ],
      "source": [
        "import pandas as pd\n",
        "\n",
        "# Đọc file CSV đã upload\n",
        "df = pd.read_csv('D:\\VideoGestureControl\\hand_gesture_dataset.csv')\n",
        "\n",
        "# Xem tổng số dòng (số mẫu)\n",
        "print(\"Tổng số mẫu:\", len(df))\n",
        "\n",
        "# Xem thống kê từng label (từng loại cử chỉ)\n",
        "print(\"\\nSố mẫu theo từng cử chỉ:\")\n",
        "print(df['label'].value_counts())\n"
      ]
    },
    {
      "cell_type": "code",
      "execution_count": null,
      "metadata": {
        "colab": {
          "base_uri": "https://localhost:8080/"
        },
        "id": "QAh48iZvXSqD",
        "outputId": "ad233d2c-4630-4a7d-bb4f-e4a5e7a345f6"
      },
      "outputs": [],
      "source": [
        "import cv2\n",
        "import mediapipe as mp\n",
        "import numpy as np\n",
        "import pandas as pd\n",
        "import os  # Thêm thư viện os để kiểm tra file tồn tại\n",
        "\n",
        "mp_hands = mp.solutions.hands\n",
        "hands = mp_hands.Hands(max_num_hands=1, min_detection_confidence=0.7)\n",
        "mp_drawing = mp.solutions.drawing_utils\n",
        "\n",
        "cap = cv2.VideoCapture(0)\n",
        "\n",
        "# Đây là nơi lưu dữ liệu\n",
        "collected_data = []\n",
        "labels = []  # nhãn tương ứng\n",
        "\n",
        "def extract_keypoints(hand_landmarks):\n",
        "    keypoints = []\n",
        "    for lm in hand_landmarks.landmark:\n",
        "        keypoints.append(lm.x)\n",
        "        keypoints.append(lm.y)\n",
        "    return keypoints\n",
        "\n",
        "gesture_label = input(\"Nhập tên cử chỉ hiện tại (vd: Play, Pause, Next): \")\n",
        "\n",
        "print(\"Nhấn SPACE để lưu keypoints, ESC để thoát\")\n",
        "\n",
        "while cap.isOpened():\n",
        "    ret, frame = cap.read()\n",
        "    if not ret:\n",
        "        break\n",
        "\n",
        "    frame = cv2.flip(frame, 1)\n",
        "    rgb = cv2.cvtColor(frame, cv2.COLOR_BGR2RGB)\n",
        "    result = hands.process(rgb)\n",
        "\n",
        "    if result.multi_hand_landmarks:\n",
        "        for hand_landmarks in result.multi_hand_landmarks:\n",
        "            mp_drawing.draw_landmarks(frame, hand_landmarks, mp_hands.HAND_CONNECTIONS)\n",
        "\n",
        "    cv2.imshow(\"Keypoint Collection\", frame)\n",
        "    key = cv2.waitKey(1)\n",
        "\n",
        "    if key == 27:  # ESC để thoát\n",
        "        break\n",
        "    elif key == 32 and result.multi_hand_landmarks:  # SPACE để lưu dữ liệu\n",
        "        # Chỉ lấy landmark bàn tay đầu tiên\n",
        "        keypoints = extract_keypoints(result.multi_hand_landmarks[0])\n",
        "        collected_data.append(keypoints)\n",
        "        labels.append(gesture_label)\n",
        "        print(f\"Đã có {len(collected_data)} mẫu cho {gesture_label}\")\n",
        "cap.release()\n",
        "cv2.destroyAllWindows()\n",
        "\n",
        "# Đường dẫn file CSV\n",
        "csv_file = 'hand_gesture_dataset.csv'\n",
        "\n",
        "# Nếu file đã tồn tại, đọc dữ liệu cũ\n",
        "if os.path.exists(csv_file):\n",
        "    existing_data = pd.read_csv(csv_file)\n",
        "    df = pd.DataFrame(collected_data)\n",
        "    df['label'] = labels\n",
        "    df = pd.concat([existing_data, df], ignore_index=True)  # Nối dữ liệu mới vào dữ liệu cũ\n",
        "else:\n",
        "    # Nếu file chưa tồn tại, chỉ tạo DataFrame từ dữ liệu mới\n",
        "    df = pd.DataFrame(collected_data)\n",
        "    df['label'] = labels\n",
        "\n",
        "# Ghi dữ liệu vào file CSV\n",
        "df.to_csv(csv_file, index=False)\n",
        "\n",
        "print(\"🎯 Đã lưu xong dataset hand_gesture_dataset.csv!\")"
      ]
    }
  ],
  "metadata": {
    "colab": {
      "provenance": []
    },
    "kernelspec": {
      "display_name": "Python 3",
      "name": "python3"
    },
    "language_info": {
      "codemirror_mode": {
        "name": "ipython",
        "version": 3
      },
      "file_extension": ".py",
      "mimetype": "text/x-python",
      "name": "python",
      "nbconvert_exporter": "python",
      "pygments_lexer": "ipython3",
      "version": "3.12.2"
    }
  },
  "nbformat": 4,
  "nbformat_minor": 0
}
